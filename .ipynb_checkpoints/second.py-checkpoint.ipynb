{
 "cells": [
  {
   "cell_type": "code",
   "execution_count": 5,
   "metadata": {},
   "outputs": [
    {
     "name": "stdout",
     "output_type": "stream",
     "text": [
      "[False False False]\n"
     ]
    }
   ],
   "source": [
    "print(np.array([1,2,3])>5)"
   ]
  },
  {
   "cell_type": "code",
   "execution_count": 11,
   "metadata": {},
   "outputs": [
    {
     "name": "stdout",
     "output_type": "stream",
     "text": [
      "[False False False False  True  True  True  True False]\n"
     ]
    }
   ],
   "source": [
    "print(np.logical_and(marks>5,marks<10))"
   ]
  },
  {
   "cell_type": "code",
   "execution_count": 82,
   "metadata": {
    "scrolled": true
   },
   "outputs": [
    {
     "name": "stdout",
     "output_type": "stream",
     "text": [
      "   code   country  capital   area  population\n",
      "1    91     india   mumbai    100         121\n",
      "2    92  pakistan  karachi    200          12\n"
     ]
    }
   ],
   "source": [
    "import pandas as pd\n",
    "brics=pd.read_csv(\"file.csv\",index_col=0)\n",
    "print(brics)"
   ]
  },
  {
   "cell_type": "code",
   "execution_count": 85,
   "metadata": {},
   "outputs": [
    {
     "name": "stdout",
     "output_type": "stream",
     "text": [
      "1    False\n",
      "2     True\n",
      "Name:  area, dtype: bool\n"
     ]
    }
   ],
   "source": [
    "print(brics[\" area\"] > 100)"
   ]
  },
  {
   "cell_type": "code",
   "execution_count": 86,
   "metadata": {},
   "outputs": [
    {
     "name": "stdout",
     "output_type": "stream",
     "text": [
      "   code   country  capital   area  population\n",
      "2    92  pakistan  karachi    200          12\n"
     ]
    }
   ],
   "source": [
    "print(brics[np.logical_and(brics[\" area\"]>101,brics[\" area\"]<300)])"
   ]
  },
  {
   "cell_type": "code",
   "execution_count": null,
   "metadata": {},
   "outputs": [],
   "source": []
  },
  {
   "cell_type": "code",
   "execution_count": null,
   "metadata": {},
   "outputs": [],
   "source": []
  },
  {
   "cell_type": "code",
   "execution_count": null,
   "metadata": {},
   "outputs": [],
   "source": [
    "x=int(input(\"Please enter an integer:\"))"
   ]
  },
  {
   "cell_type": "code",
   "execution_count": 4,
   "metadata": {},
   "outputs": [
    {
     "name": "stdout",
     "output_type": "stream",
     "text": [
      "Please enter an integer:10\n",
      "Positive Number\n"
     ]
    }
   ],
   "source": [
    "x=int(input(\"Please enter an integer:\"))\n",
    "if x<0:\n",
    "    print('Negative Number')\n",
    "elif x==0:\n",
    "    print('Zero')\n",
    "else:\n",
    "    print('Positive Number')"
   ]
  },
  {
   "cell_type": "code",
   "execution_count": 2,
   "metadata": {},
   "outputs": [
    {
     "name": "stdout",
     "output_type": "stream",
     "text": [
      "z is neither divisible by 2 nor by 3\n"
     ]
    }
   ],
   "source": [
    "z=5\n",
    "if z%2==0:\n",
    "    print(\"z is divisible by 2\")\n",
    "elif z%3==0:\n",
    "    print(\"z is divisible by 3\")\n",
    "else:\n",
    "    print(\"z is neither divisible by 2 nor by 3\")"
   ]
  },
  {
   "cell_type": "code",
   "execution_count": 1,
   "metadata": {},
   "outputs": [
    {
     "name": "stdout",
     "output_type": "stream",
     "text": [
      "1\n",
      "2\n",
      "3\n"
     ]
    }
   ],
   "source": [
    "x = 1\n",
    "while x < 4 :\n",
    "    print(x)\n",
    "    x = x + 1"
   ]
  },
  {
   "cell_type": "code",
   "execution_count": 14,
   "metadata": {},
   "outputs": [
    {
     "name": "stdout",
     "output_type": "stream",
     "text": [
      "[1, 2, 3, 4, 4, 5, 6, 7]\n"
     ]
    }
   ],
   "source": [
    "x=[1,2,3,4]\n",
    "y=[4,5,6,7]\n",
    "\n",
    "z= x + y\n",
    "\n",
    "zz = sorted(z,reverse = 0)\n",
    "print(zz)"
   ]
  },
  {
   "cell_type": "code",
   "execution_count": 16,
   "metadata": {},
   "outputs": [
    {
     "name": "stdout",
     "output_type": "stream",
     "text": [
      "Welcome to data\n"
     ]
    }
   ],
   "source": [
    "def welcome():\n",
    "    print(\"Welcome to data\")\n",
    "welcome()"
   ]
  },
  {
   "cell_type": "code",
   "execution_count": 23,
   "metadata": {},
   "outputs": [
    {
     "name": "stdout",
     "output_type": "stream",
     "text": [
      "s\n",
      "a\n"
     ]
    }
   ],
   "source": [
    "name=\"vishal\"\n",
    "name[1]\n",
    "\n",
    "for i in [2,4]:\n",
    "    print(name[i])"
   ]
  },
  {
   "cell_type": "code",
   "execution_count": 24,
   "metadata": {},
   "outputs": [
    {
     "data": {
      "text/plain": [
       "7"
      ]
     },
     "execution_count": 24,
     "metadata": {},
     "output_type": "execute_result"
    }
   ],
   "source": [
    "x=(1,2,2,1,4,5,6)\n",
    "len(x)"
   ]
  },
  {
   "cell_type": "code",
   "execution_count": 29,
   "metadata": {},
   "outputs": [
    {
     "name": "stdout",
     "output_type": "stream",
     "text": [
      "<class 'tuple'>\n",
      "a= 1\n",
      "1\n"
     ]
    }
   ],
   "source": [
    "even_nums=(1,2,3)\n",
    "print(type(even_nums))\n",
    "a,b,c=even_nums\n",
    "print(\"a= \"+ str(a))\n",
    "print(even_nums[0])"
   ]
  },
  {
   "cell_type": "code",
   "execution_count": 35,
   "metadata": {},
   "outputs": [
    {
     "name": "stdout",
     "output_type": "stream",
     "text": [
      "(100, 1024)\n"
     ]
    }
   ],
   "source": [
    "def raise_both(v1,v2):\n",
    "    new_value1 = v1 ** v2\n",
    "    new_value2 = v2 ** v1\n",
    "    new_tuple = (new_value1,new_value2)\n",
    "    return new_tuple\n",
    "rs = raise_both(10,2)\n",
    "print(rs)"
   ]
  },
  {
   "cell_type": "code",
   "execution_count": 37,
   "metadata": {},
   "outputs": [
    {
     "name": "stdout",
     "output_type": "stream",
     "text": [
      "10\n",
      "9\n",
      "9\n"
     ]
    }
   ],
   "source": [
    "new_value=10\n",
    "print(new_value)\n",
    "def square(value):\n",
    "    global new_value\n",
    "    new_value = value ** 2 \n",
    "    print(new_value)\n",
    "    \n",
    "square(3)\n",
    "print(new_value)"
   ]
  },
  {
   "cell_type": "code",
   "execution_count": 41,
   "metadata": {},
   "outputs": [
    {
     "name": "stdout",
     "output_type": "stream",
     "text": [
      "2\n",
      "2\n"
     ]
    }
   ],
   "source": [
    "def outer():\n",
    "    n=1\n",
    "    def inner():\n",
    "        nonlocal n\n",
    "        n=2\n",
    "        print(n)\n",
    "    inner()\n",
    "    print(n)\n",
    "outer()"
   ]
  },
  {
   "cell_type": "code",
   "execution_count": 46,
   "metadata": {},
   "outputs": [
    {
     "name": "stdout",
     "output_type": "stream",
     "text": [
      "<class 'dict'>\n",
      "student1: Rabson\n",
      "student2: Robert\n",
      "student3: Ram Reddy\n"
     ]
    }
   ],
   "source": [
    "def print_all(**kwargs):\n",
    "    print(type(kwargs))\n",
    "    for key, value in kwargs.items():\n",
    "        print(key + \": \" + value)\n",
    "print_all(student1=\"Rabson\",student2=\"Robert\",student3=\"Ram Reddy\")"
   ]
  },
  {
   "cell_type": "code",
   "execution_count": 43,
   "metadata": {},
   "outputs": [
    {
     "ename": "NameError",
     "evalue": "name 'kwargs' is not defined",
     "output_type": "error",
     "traceback": [
      "\u001b[1;31m---------------------------------------------------------------------------\u001b[0m",
      "\u001b[1;31mNameError\u001b[0m                                 Traceback (most recent call last)",
      "\u001b[1;32m<ipython-input-43-cc83711fffb0>\u001b[0m in \u001b[0;36m<module>\u001b[1;34m\u001b[0m\n\u001b[1;32m----> 1\u001b[1;33m \u001b[0mtype\u001b[0m\u001b[1;33m(\u001b[0m\u001b[0mkwargs\u001b[0m\u001b[1;33m)\u001b[0m\u001b[1;33m\u001b[0m\u001b[1;33m\u001b[0m\u001b[0m\n\u001b[0m",
      "\u001b[1;31mNameError\u001b[0m: name 'kwargs' is not defined"
     ]
    }
   ],
   "source": []
  },
  {
   "cell_type": "code",
   "execution_count": null,
   "metadata": {},
   "outputs": [],
   "source": []
  },
  {
   "cell_type": "code",
   "execution_count": null,
   "metadata": {},
   "outputs": [],
   "source": []
  },
  {
   "cell_type": "code",
   "execution_count": null,
   "metadata": {},
   "outputs": [],
   "source": []
  },
  {
   "cell_type": "code",
   "execution_count": null,
   "metadata": {},
   "outputs": [],
   "source": []
  },
  {
   "cell_type": "code",
   "execution_count": 70,
   "metadata": {},
   "outputs": [
    {
     "name": "stdout",
     "output_type": "stream",
     "text": [
      "                 Open       High        Low Last Traded Price  Change  \\\n",
      "Symbol                                                                  \n",
      "NIFTY 50    11,967.30  11,968.10  11,883.50         11,914.40  -54.00   \n",
      "TATASTEEL      386.00     402.80     383.10            401.35   16.25   \n",
      "EICHERMOT   21,766.30  22,965.00  21,600.00         22,850.00  895.40   \n",
      "ZEEL           344.00     362.80     334.60            355.95   10.80   \n",
      "NTPC           116.95     119.20     116.95            118.20    2.90   \n",
      "JSWSTEEL       245.00     253.00     244.30            251.30    6.05   \n",
      "VEDL           139.50     142.85     138.70            142.10    3.05   \n",
      "ONGC           131.00     134.65     130.80            133.70    2.55   \n",
      "GRASIM         778.40     796.90     770.25            792.10   13.15   \n",
      "POWERGRID      196.00     201.20     196.00            199.00    2.70   \n",
      "HDFC         2,203.00   2,240.00   2,199.30          2,240.00   29.65   \n",
      "YESBANK         64.25      66.15      64.00             64.95    0.70   \n",
      "COALINDIA      196.95     199.35     196.30            198.70    2.10   \n",
      "SUNPHARMA      450.00     461.90     445.10            450.80    3.65   \n",
      "IOC            128.65     130.40     128.35            129.85    0.95   \n",
      "ITC            247.15     252.65     246.65            247.50    1.80   \n",
      "RELIANCE     1,542.10   1,569.50   1,537.60          1,548.05   10.45   \n",
      "MARUTI       7,034.00   7,077.45   7,000.00          7,065.00   45.95   \n",
      "HINDALCO       188.00     191.30     187.05            189.50    0.90   \n",
      "BAJAJFINSV   9,059.80   9,080.00   8,981.00          9,074.00   18.90   \n",
      "INDUSINDBK   1,449.95   1,460.80   1,437.00          1,448.95    2.80   \n",
      "GAIL           122.00     122.65     121.05            122.10    0.15   \n",
      "ICICIBANK      501.10     501.75     492.15            497.65   -0.60   \n",
      "ULTRACEMCO   4,084.80   4,097.85   4,030.05          4,070.05   -7.20   \n",
      "NESTLEIND   14,190.00  14,300.95  14,102.00         14,150.00  -29.45   \n",
      "HEROMOTOCO   2,449.95   2,458.40   2,426.00          2,436.00   -7.45   \n",
      "ADANIPORTS     372.25     375.55     370.45            371.00   -1.10   \n",
      "SBIN           331.45     333.80     328.25            329.35   -2.00   \n",
      "DRREDDY      2,855.00   2,904.75   2,843.00          2,858.05  -21.20   \n",
      "HINDUNILVR   2,050.00   2,053.20   2,008.00          2,030.80  -17.85   \n",
      "AXISBANK       737.40     740.00     727.50            730.60   -6.80   \n",
      "BAJFINANCE   4,130.00   4,143.80   4,041.00          4,080.00  -43.65   \n",
      "BPCL           513.80     515.45     505.50            508.60   -5.50   \n",
      "LT           1,393.75   1,398.95   1,371.00          1,377.80  -14.90   \n",
      "M&M            554.75     555.00     539.20            545.85   -5.95   \n",
      "TITAN        1,148.00   1,150.70   1,123.20          1,135.05  -13.20   \n",
      "TATAMOTORS     164.90     165.25     160.55            162.25   -1.90   \n",
      "BAJAJ-AUTO   3,180.00   3,186.00   3,133.50          3,150.00  -38.35   \n",
      "HDFCBANK     1,283.65   1,283.65   1,262.00          1,266.50  -16.85   \n",
      "CIPLA          485.00     485.00     472.70            478.65   -6.85   \n",
      "BRITANNIA    3,062.25   3,072.00   3,016.15          3,025.00  -47.65   \n",
      "TECHM          765.00     765.00     742.80            753.10  -12.05   \n",
      "KOTAKBANK    1,591.95   1,593.90   1,565.10          1,568.90  -26.35   \n",
      "HCLTECH      1,130.45   1,134.95   1,108.95          1,117.50  -19.10   \n",
      "WIPRO          243.30     245.65     242.10            243.05   -4.50   \n",
      "BHARTIARTL     423.00     429.95     417.00            418.35   -7.95   \n",
      "UPL            541.00     542.50     530.50            533.30  -11.50   \n",
      "ASIANPAINT   1,710.00   1,713.95   1,676.00          1,682.80  -37.55   \n",
      "TCS          2,097.00   2,107.00   2,060.50          2,067.10  -51.00   \n",
      "INFY           711.75     712.00     685.10            692.95  -20.30   \n",
      "INFRATEL       242.00     243.00     227.40            232.05   -9.85   \n",
      "\n",
      "            %Change Traded Volume(lacs) Traded Value(crs) 52 Week High  \\\n",
      "Symbol                                                                   \n",
      "NIFTY 50      -0.45            4,868.16         19,243.19    12,103.05   \n",
      "TATASTEEL      4.22              172.72            677.01       562.00   \n",
      "EICHERMOT      4.08                2.51            560.03    25,300.00   \n",
      "ZEEL           3.13              621.27          2,202.21       506.90   \n",
      "NTPC           2.52              139.34            164.38       145.85   \n",
      "JSWSTEEL       2.47               49.28            122.10       329.40   \n",
      "VEDL           2.19              101.73            143.39       213.30   \n",
      "ONGC           1.94               63.24             84.16       178.90   \n",
      "GRASIM         1.69               14.58            114.45       959.80   \n",
      "POWERGRID      1.38               91.12            181.74       216.25   \n",
      "HDFC           1.34               21.86            486.44     2,357.85   \n",
      "YESBANK        1.09            1,217.92            794.69       286.00   \n",
      "COALINDIA      1.07               43.36             85.76       271.45   \n",
      "SUNPHARMA      0.82              121.15            549.39       536.30   \n",
      "IOC            0.74               67.29             87.28       170.75   \n",
      "ITC            0.73              163.70            408.31       310.00   \n",
      "RELIANCE       0.68              102.19          1,585.29     1,572.40   \n",
      "MARUTI         0.65                6.86            482.67     7,949.75   \n",
      "HINDALCO       0.48               46.36             87.76       237.90   \n",
      "BAJAJFINSV     0.21                1.56            140.59     9,189.00   \n",
      "INDUSINDBK     0.19               20.62            298.41     1,834.40   \n",
      "GAIL           0.12               68.50             83.51       183.25   \n",
      "ICICIBANK     -0.12              184.62            918.36       509.70   \n",
      "ULTRACEMCO    -0.18                2.22             90.38     4,904.95   \n",
      "NESTLEIND     -0.21                0.43             61.25    15,146.90   \n",
      "HEROMOTOCO    -0.30                4.72            115.26     3,380.00   \n",
      "ADANIPORTS    -0.30               36.79            137.20       430.60   \n",
      "SBIN          -0.60              289.75            957.10       373.80   \n",
      "DRREDDY       -0.74                5.50            157.55     2,964.00   \n",
      "HINDUNILVR    -0.87                8.36            169.32     2,190.00   \n",
      "AXISBANK      -0.92               48.90            358.32       827.75   \n",
      "BAJFINANCE    -1.06               12.23            499.62     4,280.00   \n",
      "BPCL          -1.07              118.12            602.61       549.00   \n",
      "LT            -1.07               23.63            326.09     1,607.00   \n",
      "M&M           -1.08               27.98            152.39       814.00   \n",
      "TITAN         -1.15               23.20            262.68     1,389.95   \n",
      "TATAMOTORS    -1.16              212.01            343.96       239.35   \n",
      "BAJAJ-AUTO    -1.20                2.86             90.11     3,289.00   \n",
      "HDFCBANK      -1.31               38.44            488.02     1,287.00   \n",
      "CIPLA         -1.41               27.78            133.03       586.00   \n",
      "BRITANNIA     -1.55                3.50            106.33     3,583.75   \n",
      "TECHM         -1.57               18.20            136.49       846.50   \n",
      "KOTAKBANK     -1.65               18.62            292.88     1,683.95   \n",
      "HCLTECH       -1.68               12.99            144.83     1,187.60   \n",
      "WIPRO         -1.82               40.92             99.73       301.60   \n",
      "BHARTIARTL    -1.86              167.76            709.32       452.95   \n",
      "UPL           -2.11               25.54            136.72       709.05   \n",
      "ASIANPAINT    -2.18               12.75            215.81     1,834.80   \n",
      "TCS           -2.41               37.42            778.11     2,296.20   \n",
      "INFY          -2.85              144.16            999.56       847.00   \n",
      "INFRATEL      -4.07              181.60            420.59       335.00   \n",
      "\n",
      "           52 Week Low  365 Days % Change  30 Days % Change  \n",
      "Symbol                                                       \n",
      "NIFTY 50     10,333.85              12.40              2.81  \n",
      "TATASTEEL       320.35             -27.21             13.22  \n",
      "EICHERMOT    15,200.00              -5.64             14.37  \n",
      "ZEEL            199.15             -18.86             42.12  \n",
      "NTPC            106.67             -20.05             -2.23  \n",
      "JSWSTEEL        201.75             -22.93             14.38  \n",
      "VEDL            125.30             -29.62             -4.73  \n",
      "ONGC            115.55             -11.89             -7.31  \n",
      "GRASIM          633.60              -8.30              4.77  \n",
      "POWERGRID       172.50               9.28             -2.95  \n",
      "HDFC          1,820.00              19.90              5.92  \n",
      "YESBANK          29.00             -67.22             25.39  \n",
      "COALINDIA       177.70             -23.86             -4.84  \n",
      "SUNPHARMA       344.55             -15.40             11.19  \n",
      "IOC             116.25              -8.30            -11.33  \n",
      "ITC             234.05             -12.16             -0.56  \n",
      "RELIANCE      1,055.00              39.10              9.47  \n",
      "MARUTI        5,446.05              -4.84             -2.64  \n",
      "HINDALCO        171.10             -15.08              2.02  \n",
      "BAJAJFINSV    5,612.00              55.06             13.30  \n",
      "INDUSINDBK    1,188.05              -6.32              8.05  \n",
      "GAIL            119.50             -64.61             -5.71  \n",
      "ICICIBANK       336.00              39.50             10.31  \n",
      "ULTRACEMCO    3,332.45               0.65             -4.22  \n",
      "NESTLEIND    10,031.65              38.21             -5.79  \n",
      "HEROMOTOCO    2,225.60             -16.35             -8.92  \n",
      "ADANIPORTS      292.10               2.70            -11.82  \n",
      "SBIN            244.35              14.74             21.76  \n",
      "DRREDDY       1,872.95               9.85              1.68  \n",
      "HINDUNILVR    1,650.00              20.17             -4.54  \n",
      "AXISBANK        580.50              16.55              2.50  \n",
      "BAJFINANCE    2,332.10              67.86              1.14  \n",
      "BPCL            308.35              55.73             -4.77  \n",
      "LT            1,201.10              -1.73             -4.49  \n",
      "M&M             502.55             -29.03             -8.38  \n",
      "TITAN           868.20              22.50            -14.62  \n",
      "TATAMOTORS      106.00             -11.89             23.15  \n",
      "BAJAJ-AUTO    2,442.20              20.94              0.89  \n",
      "HDFCBANK      1,000.08             -37.26              2.19  \n",
      "CIPLA           389.55              -8.33              5.45  \n",
      "BRITANNIA     2,300.00             -49.62             -6.87  \n",
      "TECHM           607.15               9.04              4.94  \n",
      "KOTAKBANK     1,153.05              33.33             -3.68  \n",
      "HCLTECH         920.00              13.43              4.98  \n",
      "WIPRO           226.99             -22.63             -4.14  \n",
      "BHARTIARTL      258.72              25.74             11.83  \n",
      "UPL             480.67             -31.56            -10.67  \n",
      "ASIANPAINT    1,252.15              27.08             -5.47  \n",
      "TCS           1,784.50              14.08              0.77  \n",
      "INFY            599.85              11.93              7.68  \n",
      "INFRATEL        176.35             -10.35            -10.34  \n"
     ]
    }
   ],
   "source": [
    "import pandas as pd\n",
    "brics=pd.read_csv(\"data.csv\",index_col=0)\n",
    "print(brics)"
   ]
  },
  {
   "cell_type": "code",
   "execution_count": 73,
   "metadata": {},
   "outputs": [
    {
     "ename": "AttributeError",
     "evalue": "'Series' object has no attribute 'astype_int'",
     "output_type": "error",
     "traceback": [
      "\u001b[1;31m---------------------------------------------------------------------------\u001b[0m",
      "\u001b[1;31mAttributeError\u001b[0m                            Traceback (most recent call last)",
      "\u001b[1;32m<ipython-input-73-c8120bb42009>\u001b[0m in \u001b[0;36m<module>\u001b[1;34m\u001b[0m\n\u001b[1;32m----> 1\u001b[1;33m \u001b[0mprint\u001b[0m\u001b[1;33m(\u001b[0m\u001b[0mbrics\u001b[0m\u001b[1;33m[\u001b[0m\u001b[1;34m'Open'\u001b[0m\u001b[1;33m]\u001b[0m\u001b[1;33m.\u001b[0m\u001b[0mastype_int\u001b[0m\u001b[1;33m(\u001b[0m\u001b[1;33m)\u001b[0m\u001b[1;33m)\u001b[0m\u001b[1;33m\u001b[0m\u001b[1;33m\u001b[0m\u001b[0m\n\u001b[0m",
      "\u001b[1;32mC:\\ProgramData\\Anaconda3\\lib\\site-packages\\pandas\\core\\generic.py\u001b[0m in \u001b[0;36m__getattr__\u001b[1;34m(self, name)\u001b[0m\n\u001b[0;32m   5065\u001b[0m             \u001b[1;32mif\u001b[0m \u001b[0mself\u001b[0m\u001b[1;33m.\u001b[0m\u001b[0m_info_axis\u001b[0m\u001b[1;33m.\u001b[0m\u001b[0m_can_hold_identifiers_and_holds_name\u001b[0m\u001b[1;33m(\u001b[0m\u001b[0mname\u001b[0m\u001b[1;33m)\u001b[0m\u001b[1;33m:\u001b[0m\u001b[1;33m\u001b[0m\u001b[1;33m\u001b[0m\u001b[0m\n\u001b[0;32m   5066\u001b[0m                 \u001b[1;32mreturn\u001b[0m \u001b[0mself\u001b[0m\u001b[1;33m[\u001b[0m\u001b[0mname\u001b[0m\u001b[1;33m]\u001b[0m\u001b[1;33m\u001b[0m\u001b[1;33m\u001b[0m\u001b[0m\n\u001b[1;32m-> 5067\u001b[1;33m             \u001b[1;32mreturn\u001b[0m \u001b[0mobject\u001b[0m\u001b[1;33m.\u001b[0m\u001b[0m__getattribute__\u001b[0m\u001b[1;33m(\u001b[0m\u001b[0mself\u001b[0m\u001b[1;33m,\u001b[0m \u001b[0mname\u001b[0m\u001b[1;33m)\u001b[0m\u001b[1;33m\u001b[0m\u001b[1;33m\u001b[0m\u001b[0m\n\u001b[0m\u001b[0;32m   5068\u001b[0m \u001b[1;33m\u001b[0m\u001b[0m\n\u001b[0;32m   5069\u001b[0m     \u001b[1;32mdef\u001b[0m \u001b[0m__setattr__\u001b[0m\u001b[1;33m(\u001b[0m\u001b[0mself\u001b[0m\u001b[1;33m,\u001b[0m \u001b[0mname\u001b[0m\u001b[1;33m,\u001b[0m \u001b[0mvalue\u001b[0m\u001b[1;33m)\u001b[0m\u001b[1;33m:\u001b[0m\u001b[1;33m\u001b[0m\u001b[1;33m\u001b[0m\u001b[0m\n",
      "\u001b[1;31mAttributeError\u001b[0m: 'Series' object has no attribute 'astype_int'"
     ]
    }
   ],
   "source": [
    "print(brics['Open'].astype_int())"
   ]
  },
  {
   "cell_type": "code",
   "execution_count": 3,
   "metadata": {},
   "outputs": [
    {
     "name": "stdout",
     "output_type": "stream",
     "text": [
      "[False False False False  True  True  True  True  True]\n",
      "[ 6  7  8  9 10]\n"
     ]
    }
   ],
   "source": [
    "import numpy as np\n",
    "marks=np.array([1,2,4,5,6,7,8,9,10])\n",
    "print(marks>5)\n",
    "print(marks[marks>5])"
   ]
  }
 ],
 "metadata": {
  "kernelspec": {
   "display_name": "Python 3",
   "language": "python",
   "name": "python3"
  },
  "language_info": {
   "codemirror_mode": {
    "name": "ipython",
    "version": 3
   },
   "file_extension": ".py",
   "mimetype": "text/x-python",
   "name": "python",
   "nbconvert_exporter": "python",
   "pygments_lexer": "ipython3",
   "version": "3.7.3"
  }
 },
 "nbformat": 4,
 "nbformat_minor": 2
}
