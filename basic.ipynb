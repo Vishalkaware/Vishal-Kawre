{
 "cells": [
  {
   "cell_type": "code",
   "execution_count": 104,
   "metadata": {},
   "outputs": [
    {
     "name": "stdout",
     "output_type": "stream",
     "text": [
      "[['ram', 1000], ['raju', 2000]]\n",
      "2000\n"
     ]
    },
    {
     "data": {
      "text/plain": [
       "list"
      ]
     },
     "execution_count": 104,
     "metadata": {},
     "output_type": "execute_result"
    }
   ],
   "source": [
    "emp_sal=[[\"ram\",1000],[\"raju\",2000]]\n",
    "print(emp_sal)\n",
    "print(emp_sal[1][1])\n",
    "emp_sal[1][1]=3000\n",
    "type(emp_sal)\n"
   ]
  },
  {
   "cell_type": "code",
   "execution_count": 74,
   "metadata": {},
   "outputs": [
    {
     "data": {
      "text/plain": [
       "'ram'"
      ]
     },
     "execution_count": 74,
     "metadata": {},
     "output_type": "execute_result"
    }
   ],
   "source": [
    "emp_sal2=[1,2,3,4,5,6]\n",
    "emp_sal2[-1]\n",
    "emp_sal[0][0]"
   ]
  },
  {
   "cell_type": "code",
   "execution_count": 110,
   "metadata": {},
   "outputs": [
    {
     "name": "stdout",
     "output_type": "stream",
     "text": [
      "[['ram reddy', 1000], ['raju', 3000, 3000], ['abc']]\n",
      "[['ram reddy', 1000], ['raju', 3000, 3000], ['abc']]\n"
     ]
    }
   ],
   "source": [
    "emp_sal[0][0]=\"ram reddy\"\n",
    "print(emp_sal)\n",
    "emp_sal[2]=[\"abc\"]\n",
    "print(emp_sal)\n"
   ]
  },
  {
   "cell_type": "code",
   "execution_count": 114,
   "metadata": {},
   "outputs": [
    {
     "data": {
      "text/plain": [
       "[['ram reddy', 1000], ['raju']]"
      ]
     },
     "execution_count": 114,
     "metadata": {},
     "output_type": "execute_result"
    }
   ],
   "source": [
    "del(emp_sal[2])\n",
    "emp_sal"
   ]
  },
  {
   "cell_type": "code",
   "execution_count": 123,
   "metadata": {},
   "outputs": [
    {
     "name": "stdout",
     "output_type": "stream",
     "text": [
      "[100, 2, 3, 4, 5]\n",
      "[100, 2, 3, 4, 5]\n",
      "[1, 2, 3, 4, 5]\n"
     ]
    }
   ],
   "source": [
    "x=[1,2,3,4,5]\n",
    "y=x\n",
    "z=list(x)\n",
    "y[0]=100\n",
    "print(y)\n",
    "print(x)\n",
    "print(z)\n"
   ]
  },
  {
   "cell_type": "code",
   "execution_count": 125,
   "metadata": {},
   "outputs": [
    {
     "name": "stdout",
     "output_type": "stream",
     "text": [
      "1\n",
      "2\n",
      "3\n",
      "4\n",
      "5\n",
      "6\n",
      "7\n",
      "8\n",
      "9\n"
     ]
    }
   ],
   "source": [
    "x=1\n",
    "while x<10:\n",
    "    print(x)\n",
    "    x=x+1"
   ]
  },
  {
   "cell_type": "code",
   "execution_count": 155,
   "metadata": {},
   "outputs": [
    {
     "name": "stdout",
     "output_type": "stream",
     "text": [
      "1,1,2,3,5,8,"
     ]
    }
   ],
   "source": [
    "a=0\n",
    "b=1\n",
    "while b<10:\n",
    "    print(b,end=',')\n",
    "    b,a=a+b,b\n",
    "    "
   ]
  },
  {
   "cell_type": "code",
   "execution_count": 177,
   "metadata": {},
   "outputs": [
    {
     "name": "stdout",
     "output_type": "stream",
     "text": [
      "9\n",
      "8\n",
      "7\n",
      "6\n",
      "5\n",
      "4\n",
      "2\n",
      "1\n",
      "0\n"
     ]
    }
   ],
   "source": [
    "i=10\n",
    "while i>0:\n",
    "    i-=1\n",
    "    if i == 3:\n",
    "        continue\n",
    "    print(i)"
   ]
  },
  {
   "cell_type": "code",
   "execution_count": 163,
   "metadata": {},
   "outputs": [
    {
     "name": "stdout",
     "output_type": "stream",
     "text": [
      "1\n",
      "2\n",
      "4\n",
      "5\n",
      "6\n"
     ]
    }
   ],
   "source": [
    "i=0\n",
    "while i<6:\n",
    "    i+=1\n",
    "    if i == 3:\n",
    "        continue\n",
    "    print(i)\n",
    "    "
   ]
  },
  {
   "cell_type": "code",
   "execution_count": 173,
   "metadata": {},
   "outputs": [
    {
     "name": "stdout",
     "output_type": "stream",
     "text": [
      "index 0 : 1.73\n",
      "index 1 : 1.68\n",
      "index 2 : 1.71\n",
      "index 3 : 1.89\n"
     ]
    }
   ],
   "source": [
    "family_heights=[1.73,1.68,1.71,1.89]\n",
    "for i,height in enumerate(family_heights):\n",
    "    print(\"index \"+str(i)+\" : \"+str(height))"
   ]
  },
  {
   "cell_type": "code",
   "execution_count": 188,
   "metadata": {},
   "outputs": [
    {
     "name": "stdout",
     "output_type": "stream",
     "text": [
      "The 12 is 12.255\n",
      "The 13 is 12.548\n"
     ]
    }
   ],
   "source": [
    "house={\"12\":12.255,\"13\":12.548}\n",
    "for key,value in house.items():\n",
    "    print(\"The \" + str(key) + \" is \" + str(value) )"
   ]
  },
  {
   "cell_type": "code",
   "execution_count": 192,
   "metadata": {},
   "outputs": [
    {
     "name": "stdout",
     "output_type": "stream",
     "text": [
      "1.73\n",
      "1.68\n",
      "1.71\n",
      "1.89\n"
     ]
    }
   ],
   "source": [
    "import numpy as np\n",
    "np_f_h=np.array([1.73,1.68,1.71,1.89])\n",
    "for height in np_f_h :\n",
    "    print(height)\n"
   ]
  },
  {
   "cell_type": "code",
   "execution_count": 195,
   "metadata": {},
   "outputs": [
    {
     "name": "stdout",
     "output_type": "stream",
     "text": [
      "1.73, 1.68, 1.71, 1.89, 70.0, 60.0, 65.0, 80.0, "
     ]
    }
   ],
   "source": [
    "import numpy as np\n",
    "np_f_h=np.array([1.73,1.68,1.71,1.89])\n",
    "np_f_w=np.array([70,60,65,80])\n",
    "np_f_h_w=np.array([np_f_h,np_f_w])\n",
    "for height in np.nditer(np_f_h_w) :\n",
    "    print(height,end=\", \")"
   ]
  },
  {
   "cell_type": "code",
   "execution_count": 237,
   "metadata": {},
   "outputs": [
    {
     "name": "stdout",
     "output_type": "stream",
     "text": [
      "******** 04 Add Column to result ********\n"
     ]
    },
    {
     "ename": "KeyError",
     "evalue": "'bbbb'",
     "output_type": "error",
     "traceback": [
      "\u001b[1;31m---------------------------------------------------------------------------\u001b[0m",
      "\u001b[1;31mTypeError\u001b[0m                                 Traceback (most recent call last)",
      "\u001b[1;32mC:\\ProgramData\\Anaconda3\\lib\\site-packages\\pandas\\core\\indexes\\base.py\u001b[0m in \u001b[0;36mget_value\u001b[1;34m(self, series, key)\u001b[0m\n\u001b[0;32m   4380\u001b[0m             \u001b[1;32mtry\u001b[0m\u001b[1;33m:\u001b[0m\u001b[1;33m\u001b[0m\u001b[1;33m\u001b[0m\u001b[0m\n\u001b[1;32m-> 4381\u001b[1;33m                 \u001b[1;32mreturn\u001b[0m \u001b[0mlibindex\u001b[0m\u001b[1;33m.\u001b[0m\u001b[0mget_value_box\u001b[0m\u001b[1;33m(\u001b[0m\u001b[0ms\u001b[0m\u001b[1;33m,\u001b[0m \u001b[0mkey\u001b[0m\u001b[1;33m)\u001b[0m\u001b[1;33m\u001b[0m\u001b[1;33m\u001b[0m\u001b[0m\n\u001b[0m\u001b[0;32m   4382\u001b[0m             \u001b[1;32mexcept\u001b[0m \u001b[0mIndexError\u001b[0m\u001b[1;33m:\u001b[0m\u001b[1;33m\u001b[0m\u001b[1;33m\u001b[0m\u001b[0m\n",
      "\u001b[1;32mpandas/_libs/index.pyx\u001b[0m in \u001b[0;36mpandas._libs.index.get_value_box\u001b[1;34m()\u001b[0m\n",
      "\u001b[1;32mpandas/_libs/index.pyx\u001b[0m in \u001b[0;36mpandas._libs.index.get_value_at\u001b[1;34m()\u001b[0m\n",
      "\u001b[1;32mpandas/_libs/util.pxd\u001b[0m in \u001b[0;36mpandas._libs.util.get_value_at\u001b[1;34m()\u001b[0m\n",
      "\u001b[1;32mpandas/_libs/util.pxd\u001b[0m in \u001b[0;36mpandas._libs.util.validate_indexer\u001b[1;34m()\u001b[0m\n",
      "\u001b[1;31mTypeError\u001b[0m: 'str' object cannot be interpreted as an integer",
      "\nDuring handling of the above exception, another exception occurred:\n",
      "\u001b[1;31mKeyError\u001b[0m                                  Traceback (most recent call last)",
      "\u001b[1;32m<ipython-input-237-6747db0e247c>\u001b[0m in \u001b[0;36m<module>\u001b[1;34m\u001b[0m\n\u001b[0;32m      3\u001b[0m \u001b[0mprint\u001b[0m\u001b[1;33m(\u001b[0m\u001b[1;34m\"******** 04 Add Column to result ********\"\u001b[0m\u001b[1;33m)\u001b[0m\u001b[1;33m\u001b[0m\u001b[1;33m\u001b[0m\u001b[0m\n\u001b[0;32m      4\u001b[0m \u001b[1;32mfor\u001b[0m \u001b[0mlab\u001b[0m\u001b[1;33m,\u001b[0m \u001b[0mrow\u001b[0m \u001b[1;32min\u001b[0m \u001b[0mbrics\u001b[0m\u001b[1;33m.\u001b[0m\u001b[0miterrows\u001b[0m\u001b[1;33m(\u001b[0m\u001b[1;33m)\u001b[0m\u001b[1;33m:\u001b[0m\u001b[1;33m\u001b[0m\u001b[1;33m\u001b[0m\u001b[0m\n\u001b[1;32m----> 5\u001b[1;33m     \u001b[0mbrics\u001b[0m\u001b[1;33m.\u001b[0m\u001b[0mloc\u001b[0m\u001b[1;33m[\u001b[0m\u001b[0mlab\u001b[0m\u001b[1;33m,\u001b[0m\u001b[1;34m\"name_length\"\u001b[0m\u001b[1;33m]\u001b[0m\u001b[1;33m=\u001b[0m\u001b[0mlen\u001b[0m\u001b[1;33m(\u001b[0m\u001b[0mrow\u001b[0m\u001b[1;33m[\u001b[0m\u001b[1;34m\"bbbb\"\u001b[0m\u001b[1;33m]\u001b[0m\u001b[1;33m)\u001b[0m\u001b[1;33m\u001b[0m\u001b[1;33m\u001b[0m\u001b[0m\n\u001b[0m\u001b[0;32m      6\u001b[0m \u001b[0mprint\u001b[0m\u001b[1;33m(\u001b[0m\u001b[0mbrics\u001b[0m\u001b[1;33m)\u001b[0m\u001b[1;33m\u001b[0m\u001b[1;33m\u001b[0m\u001b[0m\n",
      "\u001b[1;32mC:\\ProgramData\\Anaconda3\\lib\\site-packages\\pandas\\core\\series.py\u001b[0m in \u001b[0;36m__getitem__\u001b[1;34m(self, key)\u001b[0m\n\u001b[0;32m    866\u001b[0m         \u001b[0mkey\u001b[0m \u001b[1;33m=\u001b[0m \u001b[0mcom\u001b[0m\u001b[1;33m.\u001b[0m\u001b[0mapply_if_callable\u001b[0m\u001b[1;33m(\u001b[0m\u001b[0mkey\u001b[0m\u001b[1;33m,\u001b[0m \u001b[0mself\u001b[0m\u001b[1;33m)\u001b[0m\u001b[1;33m\u001b[0m\u001b[1;33m\u001b[0m\u001b[0m\n\u001b[0;32m    867\u001b[0m         \u001b[1;32mtry\u001b[0m\u001b[1;33m:\u001b[0m\u001b[1;33m\u001b[0m\u001b[1;33m\u001b[0m\u001b[0m\n\u001b[1;32m--> 868\u001b[1;33m             \u001b[0mresult\u001b[0m \u001b[1;33m=\u001b[0m \u001b[0mself\u001b[0m\u001b[1;33m.\u001b[0m\u001b[0mindex\u001b[0m\u001b[1;33m.\u001b[0m\u001b[0mget_value\u001b[0m\u001b[1;33m(\u001b[0m\u001b[0mself\u001b[0m\u001b[1;33m,\u001b[0m \u001b[0mkey\u001b[0m\u001b[1;33m)\u001b[0m\u001b[1;33m\u001b[0m\u001b[1;33m\u001b[0m\u001b[0m\n\u001b[0m\u001b[0;32m    869\u001b[0m \u001b[1;33m\u001b[0m\u001b[0m\n\u001b[0;32m    870\u001b[0m             \u001b[1;32mif\u001b[0m \u001b[1;32mnot\u001b[0m \u001b[0mis_scalar\u001b[0m\u001b[1;33m(\u001b[0m\u001b[0mresult\u001b[0m\u001b[1;33m)\u001b[0m\u001b[1;33m:\u001b[0m\u001b[1;33m\u001b[0m\u001b[1;33m\u001b[0m\u001b[0m\n",
      "\u001b[1;32mC:\\ProgramData\\Anaconda3\\lib\\site-packages\\pandas\\core\\indexes\\base.py\u001b[0m in \u001b[0;36mget_value\u001b[1;34m(self, series, key)\u001b[0m\n\u001b[0;32m   4387\u001b[0m                     \u001b[1;32mraise\u001b[0m \u001b[0mInvalidIndexError\u001b[0m\u001b[1;33m(\u001b[0m\u001b[0mkey\u001b[0m\u001b[1;33m)\u001b[0m\u001b[1;33m\u001b[0m\u001b[1;33m\u001b[0m\u001b[0m\n\u001b[0;32m   4388\u001b[0m                 \u001b[1;32melse\u001b[0m\u001b[1;33m:\u001b[0m\u001b[1;33m\u001b[0m\u001b[1;33m\u001b[0m\u001b[0m\n\u001b[1;32m-> 4389\u001b[1;33m                     \u001b[1;32mraise\u001b[0m \u001b[0me1\u001b[0m\u001b[1;33m\u001b[0m\u001b[1;33m\u001b[0m\u001b[0m\n\u001b[0m\u001b[0;32m   4390\u001b[0m             \u001b[1;32mexcept\u001b[0m \u001b[0mException\u001b[0m\u001b[1;33m:\u001b[0m  \u001b[1;31m# pragma: no cover\u001b[0m\u001b[1;33m\u001b[0m\u001b[1;33m\u001b[0m\u001b[0m\n\u001b[0;32m   4391\u001b[0m                 \u001b[1;32mraise\u001b[0m \u001b[0me1\u001b[0m\u001b[1;33m\u001b[0m\u001b[1;33m\u001b[0m\u001b[0m\n",
      "\u001b[1;32mC:\\ProgramData\\Anaconda3\\lib\\site-packages\\pandas\\core\\indexes\\base.py\u001b[0m in \u001b[0;36mget_value\u001b[1;34m(self, series, key)\u001b[0m\n\u001b[0;32m   4373\u001b[0m         \u001b[1;32mtry\u001b[0m\u001b[1;33m:\u001b[0m\u001b[1;33m\u001b[0m\u001b[1;33m\u001b[0m\u001b[0m\n\u001b[0;32m   4374\u001b[0m             return self._engine.get_value(s, k,\n\u001b[1;32m-> 4375\u001b[1;33m                                           tz=getattr(series.dtype, 'tz', None))\n\u001b[0m\u001b[0;32m   4376\u001b[0m         \u001b[1;32mexcept\u001b[0m \u001b[0mKeyError\u001b[0m \u001b[1;32mas\u001b[0m \u001b[0me1\u001b[0m\u001b[1;33m:\u001b[0m\u001b[1;33m\u001b[0m\u001b[1;33m\u001b[0m\u001b[0m\n\u001b[0;32m   4377\u001b[0m             \u001b[1;32mif\u001b[0m \u001b[0mlen\u001b[0m\u001b[1;33m(\u001b[0m\u001b[0mself\u001b[0m\u001b[1;33m)\u001b[0m \u001b[1;33m>\u001b[0m \u001b[1;36m0\u001b[0m \u001b[1;32mand\u001b[0m \u001b[1;33m(\u001b[0m\u001b[0mself\u001b[0m\u001b[1;33m.\u001b[0m\u001b[0mholds_integer\u001b[0m\u001b[1;33m(\u001b[0m\u001b[1;33m)\u001b[0m \u001b[1;32mor\u001b[0m \u001b[0mself\u001b[0m\u001b[1;33m.\u001b[0m\u001b[0mis_boolean\u001b[0m\u001b[1;33m(\u001b[0m\u001b[1;33m)\u001b[0m\u001b[1;33m)\u001b[0m\u001b[1;33m:\u001b[0m\u001b[1;33m\u001b[0m\u001b[1;33m\u001b[0m\u001b[0m\n",
      "\u001b[1;32mpandas/_libs/index.pyx\u001b[0m in \u001b[0;36mpandas._libs.index.IndexEngine.get_value\u001b[1;34m()\u001b[0m\n",
      "\u001b[1;32mpandas/_libs/index.pyx\u001b[0m in \u001b[0;36mpandas._libs.index.IndexEngine.get_value\u001b[1;34m()\u001b[0m\n",
      "\u001b[1;32mpandas/_libs/index.pyx\u001b[0m in \u001b[0;36mpandas._libs.index.IndexEngine.get_loc\u001b[1;34m()\u001b[0m\n",
      "\u001b[1;32mpandas/_libs/hashtable_class_helper.pxi\u001b[0m in \u001b[0;36mpandas._libs.hashtable.PyObjectHashTable.get_item\u001b[1;34m()\u001b[0m\n",
      "\u001b[1;32mpandas/_libs/hashtable_class_helper.pxi\u001b[0m in \u001b[0;36mpandas._libs.hashtable.PyObjectHashTable.get_item\u001b[1;34m()\u001b[0m\n",
      "\u001b[1;31mKeyError\u001b[0m: 'bbbb'"
     ]
    }
   ],
   "source": [
    "import pandas as pd\n",
    "brics = pd.read_csv(\"brics.csv\",index_col=0)\n",
    "print(\"******** 04 Add Column to result ********\")\n",
    "for lab, row in brics.iterrows():\n",
    "    brics.loc[lab,\"name_length\"]=len(row[\"bbbb\"])\n",
    "print(brics)"
   ]
  },
  {
   "cell_type": "code",
   "execution_count": 222,
   "metadata": {},
   "outputs": [
    {
     "name": "stdout",
     "output_type": "stream",
     "text": [
      "******* 01. Column Names ********\n",
      "Open\n",
      "High\n",
      "Low\n",
      "Last Traded Price\n",
      "Change\n",
      "%Change\n",
      "Traded Volume(lacs)\n",
      "Traded Value(crs)\n",
      "52 Week High\n",
      "52 Week Low\n",
      "365 Days % Change\n",
      "30 Days % Change\n",
      "******** 02 All rows ******** \n",
      "NIFTY 50\n",
      "Open                   11,967.30\n",
      "High                   11,968.10\n",
      "Low                    11,883.50\n",
      "Last Traded Price      11,914.40\n",
      "Change                       -54\n",
      "%Change                    -0.45\n",
      "Traded Volume(lacs)     4,868.16\n",
      "Traded Value(crs)      19,243.19\n",
      "52 Week High           12,103.05\n",
      "52 Week Low            10,333.85\n",
      "365 Days % Change           12.4\n",
      "30 Days % Change            2.81\n",
      "Name: NIFTY 50, dtype: object\n",
      "TATASTEEL\n",
      "Open                   386.00\n",
      "High                   402.80\n",
      "Low                    383.10\n",
      "Last Traded Price      401.35\n",
      "Change                  16.25\n",
      "%Change                  4.22\n",
      "Traded Volume(lacs)    172.72\n",
      "Traded Value(crs)      677.01\n",
      "52 Week High           562.00\n",
      "52 Week Low            320.35\n",
      "365 Days % Change      -27.21\n",
      "30 Days % Change        13.22\n",
      "Name: TATASTEEL, dtype: object\n",
      "EICHERMOT\n",
      "Open                   21,766.30\n",
      "High                   22,965.00\n",
      "Low                    21,600.00\n",
      "Last Traded Price      22,850.00\n",
      "Change                     895.4\n",
      "%Change                     4.08\n",
      "Traded Volume(lacs)         2.51\n",
      "Traded Value(crs)         560.03\n",
      "52 Week High           25,300.00\n",
      "52 Week Low            15,200.00\n",
      "365 Days % Change          -5.64\n",
      "30 Days % Change           14.37\n",
      "Name: EICHERMOT, dtype: object\n",
      "ZEEL\n",
      "Open                     344.00\n",
      "High                     362.80\n",
      "Low                      334.60\n",
      "Last Traded Price        355.95\n",
      "Change                     10.8\n",
      "%Change                    3.13\n",
      "Traded Volume(lacs)      621.27\n",
      "Traded Value(crs)      2,202.21\n",
      "52 Week High             506.90\n",
      "52 Week Low              199.15\n",
      "365 Days % Change        -18.86\n",
      "30 Days % Change          42.12\n",
      "Name: ZEEL, dtype: object\n",
      "NTPC\n",
      "Open                   116.95\n",
      "High                   119.20\n",
      "Low                    116.95\n",
      "Last Traded Price      118.20\n",
      "Change                    2.9\n",
      "%Change                  2.52\n",
      "Traded Volume(lacs)    139.34\n",
      "Traded Value(crs)      164.38\n",
      "52 Week High           145.85\n",
      "52 Week Low            106.67\n",
      "365 Days % Change      -20.05\n",
      "30 Days % Change        -2.23\n",
      "Name: NTPC, dtype: object\n",
      "JSWSTEEL\n",
      "Open                   245.00\n",
      "High                   253.00\n",
      "Low                    244.30\n",
      "Last Traded Price      251.30\n",
      "Change                   6.05\n",
      "%Change                  2.47\n",
      "Traded Volume(lacs)     49.28\n",
      "Traded Value(crs)      122.10\n",
      "52 Week High           329.40\n",
      "52 Week Low            201.75\n",
      "365 Days % Change      -22.93\n",
      "30 Days % Change        14.38\n",
      "Name: JSWSTEEL, dtype: object\n",
      "VEDL\n",
      "Open                   139.50\n",
      "High                   142.85\n",
      "Low                    138.70\n",
      "Last Traded Price      142.10\n",
      "Change                   3.05\n",
      "%Change                  2.19\n",
      "Traded Volume(lacs)    101.73\n",
      "Traded Value(crs)      143.39\n",
      "52 Week High           213.30\n",
      "52 Week Low            125.30\n",
      "365 Days % Change      -29.62\n",
      "30 Days % Change        -4.73\n",
      "Name: VEDL, dtype: object\n",
      "ONGC\n",
      "Open                   131.00\n",
      "High                   134.65\n",
      "Low                    130.80\n",
      "Last Traded Price      133.70\n",
      "Change                   2.55\n",
      "%Change                  1.94\n",
      "Traded Volume(lacs)     63.24\n",
      "Traded Value(crs)       84.16\n",
      "52 Week High           178.90\n",
      "52 Week Low            115.55\n",
      "365 Days % Change      -11.89\n",
      "30 Days % Change        -7.31\n",
      "Name: ONGC, dtype: object\n",
      "GRASIM\n",
      "Open                   778.40\n",
      "High                   796.90\n",
      "Low                    770.25\n",
      "Last Traded Price      792.10\n",
      "Change                  13.15\n",
      "%Change                  1.69\n",
      "Traded Volume(lacs)     14.58\n",
      "Traded Value(crs)      114.45\n",
      "52 Week High           959.80\n",
      "52 Week Low            633.60\n",
      "365 Days % Change        -8.3\n",
      "30 Days % Change         4.77\n",
      "Name: GRASIM, dtype: object\n",
      "POWERGRID\n",
      "Open                   196.00\n",
      "High                   201.20\n",
      "Low                    196.00\n",
      "Last Traded Price      199.00\n",
      "Change                    2.7\n",
      "%Change                  1.38\n",
      "Traded Volume(lacs)     91.12\n",
      "Traded Value(crs)      181.74\n",
      "52 Week High           216.25\n",
      "52 Week Low            172.50\n",
      "365 Days % Change        9.28\n",
      "30 Days % Change        -2.95\n",
      "Name: POWERGRID, dtype: object\n",
      "HDFC\n",
      "Open                   2,203.00\n",
      "High                   2,240.00\n",
      "Low                    2,199.30\n",
      "Last Traded Price      2,240.00\n",
      "Change                    29.65\n",
      "%Change                    1.34\n",
      "Traded Volume(lacs)       21.86\n",
      "Traded Value(crs)        486.44\n",
      "52 Week High           2,357.85\n",
      "52 Week Low            1,820.00\n",
      "365 Days % Change          19.9\n",
      "30 Days % Change           5.92\n",
      "Name: HDFC, dtype: object\n",
      "YESBANK\n",
      "Open                      64.25\n",
      "High                      66.15\n",
      "Low                       64.00\n",
      "Last Traded Price         64.95\n",
      "Change                      0.7\n",
      "%Change                    1.09\n",
      "Traded Volume(lacs)    1,217.92\n",
      "Traded Value(crs)        794.69\n",
      "52 Week High             286.00\n",
      "52 Week Low               29.00\n",
      "365 Days % Change        -67.22\n",
      "30 Days % Change          25.39\n",
      "Name: YESBANK, dtype: object\n",
      "COALINDIA\n",
      "Open                   196.95\n",
      "High                   199.35\n",
      "Low                    196.30\n",
      "Last Traded Price      198.70\n",
      "Change                    2.1\n",
      "%Change                  1.07\n",
      "Traded Volume(lacs)     43.36\n",
      "Traded Value(crs)       85.76\n",
      "52 Week High           271.45\n",
      "52 Week Low            177.70\n",
      "365 Days % Change      -23.86\n",
      "30 Days % Change        -4.84\n",
      "Name: COALINDIA, dtype: object\n",
      "SUNPHARMA\n",
      "Open                   450.00\n",
      "High                   461.90\n",
      "Low                    445.10\n",
      "Last Traded Price      450.80\n",
      "Change                   3.65\n",
      "%Change                  0.82\n",
      "Traded Volume(lacs)    121.15\n",
      "Traded Value(crs)      549.39\n",
      "52 Week High           536.30\n",
      "52 Week Low            344.55\n",
      "365 Days % Change       -15.4\n",
      "30 Days % Change        11.19\n",
      "Name: SUNPHARMA, dtype: object\n",
      "IOC\n",
      "Open                   128.65\n",
      "High                   130.40\n",
      "Low                    128.35\n",
      "Last Traded Price      129.85\n",
      "Change                   0.95\n",
      "%Change                  0.74\n",
      "Traded Volume(lacs)     67.29\n",
      "Traded Value(crs)       87.28\n",
      "52 Week High           170.75\n",
      "52 Week Low            116.25\n",
      "365 Days % Change        -8.3\n",
      "30 Days % Change       -11.33\n",
      "Name: IOC, dtype: object\n",
      "ITC\n",
      "Open                   247.15\n",
      "High                   252.65\n",
      "Low                    246.65\n",
      "Last Traded Price      247.50\n",
      "Change                    1.8\n",
      "%Change                  0.73\n",
      "Traded Volume(lacs)    163.70\n",
      "Traded Value(crs)      408.31\n",
      "52 Week High           310.00\n",
      "52 Week Low            234.05\n",
      "365 Days % Change      -12.16\n",
      "30 Days % Change        -0.56\n",
      "Name: ITC, dtype: object\n",
      "RELIANCE\n",
      "Open                   1,542.10\n",
      "High                   1,569.50\n",
      "Low                    1,537.60\n",
      "Last Traded Price      1,548.05\n",
      "Change                    10.45\n",
      "%Change                    0.68\n",
      "Traded Volume(lacs)      102.19\n",
      "Traded Value(crs)      1,585.29\n",
      "52 Week High           1,572.40\n",
      "52 Week Low            1,055.00\n",
      "365 Days % Change          39.1\n",
      "30 Days % Change           9.47\n",
      "Name: RELIANCE, dtype: object\n",
      "MARUTI\n",
      "Open                   7,034.00\n",
      "High                   7,077.45\n",
      "Low                    7,000.00\n",
      "Last Traded Price      7,065.00\n",
      "Change                    45.95\n",
      "%Change                    0.65\n",
      "Traded Volume(lacs)        6.86\n",
      "Traded Value(crs)        482.67\n",
      "52 Week High           7,949.75\n",
      "52 Week Low            5,446.05\n",
      "365 Days % Change         -4.84\n",
      "30 Days % Change          -2.64\n",
      "Name: MARUTI, dtype: object\n",
      "HINDALCO\n",
      "Open                   188.00\n",
      "High                   191.30\n",
      "Low                    187.05\n",
      "Last Traded Price      189.50\n",
      "Change                    0.9\n",
      "%Change                  0.48\n",
      "Traded Volume(lacs)     46.36\n",
      "Traded Value(crs)       87.76\n",
      "52 Week High           237.90\n",
      "52 Week Low            171.10\n",
      "365 Days % Change      -15.08\n",
      "30 Days % Change         2.02\n",
      "Name: HINDALCO, dtype: object\n",
      "BAJAJFINSV\n",
      "Open                   9,059.80\n",
      "High                   9,080.00\n",
      "Low                    8,981.00\n",
      "Last Traded Price      9,074.00\n",
      "Change                     18.9\n",
      "%Change                    0.21\n",
      "Traded Volume(lacs)        1.56\n",
      "Traded Value(crs)        140.59\n",
      "52 Week High           9,189.00\n",
      "52 Week Low            5,612.00\n",
      "365 Days % Change         55.06\n",
      "30 Days % Change           13.3\n",
      "Name: BAJAJFINSV, dtype: object\n",
      "INDUSINDBK\n",
      "Open                   1,449.95\n",
      "High                   1,460.80\n",
      "Low                    1,437.00\n",
      "Last Traded Price      1,448.95\n",
      "Change                      2.8\n",
      "%Change                    0.19\n",
      "Traded Volume(lacs)       20.62\n",
      "Traded Value(crs)        298.41\n",
      "52 Week High           1,834.40\n",
      "52 Week Low            1,188.05\n",
      "365 Days % Change         -6.32\n",
      "30 Days % Change           8.05\n",
      "Name: INDUSINDBK, dtype: object\n",
      "GAIL\n",
      "Open                   122.00\n",
      "High                   122.65\n",
      "Low                    121.05\n",
      "Last Traded Price      122.10\n",
      "Change                   0.15\n",
      "%Change                  0.12\n",
      "Traded Volume(lacs)     68.50\n",
      "Traded Value(crs)       83.51\n",
      "52 Week High           183.25\n",
      "52 Week Low            119.50\n",
      "365 Days % Change      -64.61\n",
      "30 Days % Change        -5.71\n",
      "Name: GAIL, dtype: object\n",
      "ICICIBANK\n",
      "Open                   501.10\n",
      "High                   501.75\n",
      "Low                    492.15\n",
      "Last Traded Price      497.65\n",
      "Change                   -0.6\n",
      "%Change                 -0.12\n",
      "Traded Volume(lacs)    184.62\n",
      "Traded Value(crs)      918.36\n",
      "52 Week High           509.70\n",
      "52 Week Low            336.00\n",
      "365 Days % Change        39.5\n",
      "30 Days % Change        10.31\n",
      "Name: ICICIBANK, dtype: object\n",
      "ULTRACEMCO\n",
      "Open                   4,084.80\n",
      "High                   4,097.85\n",
      "Low                    4,030.05\n",
      "Last Traded Price      4,070.05\n",
      "Change                     -7.2\n",
      "%Change                   -0.18\n",
      "Traded Volume(lacs)        2.22\n",
      "Traded Value(crs)         90.38\n",
      "52 Week High           4,904.95\n",
      "52 Week Low            3,332.45\n",
      "365 Days % Change          0.65\n",
      "30 Days % Change          -4.22\n",
      "Name: ULTRACEMCO, dtype: object\n",
      "NESTLEIND\n",
      "Open                   14,190.00\n",
      "High                   14,300.95\n",
      "Low                    14,102.00\n",
      "Last Traded Price      14,150.00\n",
      "Change                    -29.45\n",
      "%Change                    -0.21\n",
      "Traded Volume(lacs)         0.43\n",
      "Traded Value(crs)          61.25\n",
      "52 Week High           15,146.90\n",
      "52 Week Low            10,031.65\n",
      "365 Days % Change          38.21\n",
      "30 Days % Change           -5.79\n",
      "Name: NESTLEIND, dtype: object\n",
      "HEROMOTOCO\n",
      "Open                   2,449.95\n",
      "High                   2,458.40\n",
      "Low                    2,426.00\n",
      "Last Traded Price      2,436.00\n",
      "Change                    -7.45\n",
      "%Change                    -0.3\n",
      "Traded Volume(lacs)        4.72\n",
      "Traded Value(crs)        115.26\n",
      "52 Week High           3,380.00\n",
      "52 Week Low            2,225.60\n",
      "365 Days % Change        -16.35\n",
      "30 Days % Change          -8.92\n",
      "Name: HEROMOTOCO, dtype: object\n",
      "ADANIPORTS\n",
      "Open                   372.25\n",
      "High                   375.55\n",
      "Low                    370.45\n",
      "Last Traded Price      371.00\n",
      "Change                   -1.1\n",
      "%Change                  -0.3\n",
      "Traded Volume(lacs)     36.79\n",
      "Traded Value(crs)      137.20\n",
      "52 Week High           430.60\n",
      "52 Week Low            292.10\n",
      "365 Days % Change         2.7\n",
      "30 Days % Change       -11.82\n",
      "Name: ADANIPORTS, dtype: object\n",
      "SBIN\n",
      "Open                   331.45\n",
      "High                   333.80\n",
      "Low                    328.25\n",
      "Last Traded Price      329.35\n",
      "Change                     -2\n",
      "%Change                  -0.6\n",
      "Traded Volume(lacs)    289.75\n",
      "Traded Value(crs)      957.10\n",
      "52 Week High           373.80\n",
      "52 Week Low            244.35\n",
      "365 Days % Change       14.74\n",
      "30 Days % Change        21.76\n",
      "Name: SBIN, dtype: object\n",
      "DRREDDY\n",
      "Open                   2,855.00\n",
      "High                   2,904.75\n",
      "Low                    2,843.00\n",
      "Last Traded Price      2,858.05\n",
      "Change                    -21.2\n",
      "%Change                   -0.74\n",
      "Traded Volume(lacs)        5.50\n",
      "Traded Value(crs)        157.55\n",
      "52 Week High           2,964.00\n",
      "52 Week Low            1,872.95\n",
      "365 Days % Change          9.85\n",
      "30 Days % Change           1.68\n",
      "Name: DRREDDY, dtype: object\n",
      "HINDUNILVR\n",
      "Open                   2,050.00\n",
      "High                   2,053.20\n",
      "Low                    2,008.00\n",
      "Last Traded Price      2,030.80\n",
      "Change                   -17.85\n",
      "%Change                   -0.87\n",
      "Traded Volume(lacs)        8.36\n",
      "Traded Value(crs)        169.32\n",
      "52 Week High           2,190.00\n",
      "52 Week Low            1,650.00\n",
      "365 Days % Change         20.17\n",
      "30 Days % Change          -4.54\n",
      "Name: HINDUNILVR, dtype: object\n",
      "AXISBANK\n",
      "Open                   737.40\n",
      "High                   740.00\n",
      "Low                    727.50\n",
      "Last Traded Price      730.60\n",
      "Change                   -6.8\n",
      "%Change                 -0.92\n",
      "Traded Volume(lacs)     48.90\n",
      "Traded Value(crs)      358.32\n",
      "52 Week High           827.75\n",
      "52 Week Low            580.50\n",
      "365 Days % Change       16.55\n",
      "30 Days % Change          2.5\n",
      "Name: AXISBANK, dtype: object\n",
      "BAJFINANCE\n",
      "Open                   4,130.00\n",
      "High                   4,143.80\n",
      "Low                    4,041.00\n",
      "Last Traded Price      4,080.00\n",
      "Change                   -43.65\n",
      "%Change                   -1.06\n",
      "Traded Volume(lacs)       12.23\n",
      "Traded Value(crs)        499.62\n",
      "52 Week High           4,280.00\n",
      "52 Week Low            2,332.10\n",
      "365 Days % Change         67.86\n",
      "30 Days % Change           1.14\n",
      "Name: BAJFINANCE, dtype: object\n",
      "BPCL\n",
      "Open                   513.80\n",
      "High                   515.45\n",
      "Low                    505.50\n",
      "Last Traded Price      508.60\n",
      "Change                   -5.5\n",
      "%Change                 -1.07\n",
      "Traded Volume(lacs)    118.12\n",
      "Traded Value(crs)      602.61\n",
      "52 Week High           549.00\n",
      "52 Week Low            308.35\n",
      "365 Days % Change       55.73\n",
      "30 Days % Change        -4.77\n",
      "Name: BPCL, dtype: object\n",
      "LT\n",
      "Open                   1,393.75\n",
      "High                   1,398.95\n",
      "Low                    1,371.00\n",
      "Last Traded Price      1,377.80\n",
      "Change                    -14.9\n",
      "%Change                   -1.07\n",
      "Traded Volume(lacs)       23.63\n",
      "Traded Value(crs)        326.09\n",
      "52 Week High           1,607.00\n",
      "52 Week Low            1,201.10\n",
      "365 Days % Change         -1.73\n",
      "30 Days % Change          -4.49\n",
      "Name: LT, dtype: object\n",
      "M&M\n",
      "Open                   554.75\n",
      "High                   555.00\n",
      "Low                    539.20\n",
      "Last Traded Price      545.85\n",
      "Change                  -5.95\n",
      "%Change                 -1.08\n",
      "Traded Volume(lacs)     27.98\n",
      "Traded Value(crs)      152.39\n",
      "52 Week High           814.00\n",
      "52 Week Low            502.55\n",
      "365 Days % Change      -29.03\n",
      "30 Days % Change        -8.38\n",
      "Name: M&M, dtype: object\n",
      "TITAN\n",
      "Open                   1,148.00\n",
      "High                   1,150.70\n",
      "Low                    1,123.20\n",
      "Last Traded Price      1,135.05\n",
      "Change                    -13.2\n",
      "%Change                   -1.15\n",
      "Traded Volume(lacs)       23.20\n",
      "Traded Value(crs)        262.68\n",
      "52 Week High           1,389.95\n",
      "52 Week Low              868.20\n",
      "365 Days % Change          22.5\n",
      "30 Days % Change         -14.62\n",
      "Name: TITAN, dtype: object\n",
      "TATAMOTORS\n",
      "Open                   164.90\n",
      "High                   165.25\n",
      "Low                    160.55\n",
      "Last Traded Price      162.25\n",
      "Change                   -1.9\n",
      "%Change                 -1.16\n",
      "Traded Volume(lacs)    212.01\n",
      "Traded Value(crs)      343.96\n",
      "52 Week High           239.35\n",
      "52 Week Low            106.00\n",
      "365 Days % Change      -11.89\n",
      "30 Days % Change        23.15\n",
      "Name: TATAMOTORS, dtype: object\n",
      "BAJAJ-AUTO\n",
      "Open                   3,180.00\n",
      "High                   3,186.00\n",
      "Low                    3,133.50\n",
      "Last Traded Price      3,150.00\n",
      "Change                   -38.35\n",
      "%Change                    -1.2\n",
      "Traded Volume(lacs)        2.86\n",
      "Traded Value(crs)         90.11\n",
      "52 Week High           3,289.00\n",
      "52 Week Low            2,442.20\n",
      "365 Days % Change         20.94\n",
      "30 Days % Change           0.89\n",
      "Name: BAJAJ-AUTO, dtype: object\n",
      "HDFCBANK\n",
      "Open                   1,283.65\n",
      "High                   1,283.65\n",
      "Low                    1,262.00\n",
      "Last Traded Price      1,266.50\n",
      "Change                   -16.85\n",
      "%Change                   -1.31\n",
      "Traded Volume(lacs)       38.44\n",
      "Traded Value(crs)        488.02\n",
      "52 Week High           1,287.00\n",
      "52 Week Low            1,000.08\n",
      "365 Days % Change        -37.26\n",
      "30 Days % Change           2.19\n",
      "Name: HDFCBANK, dtype: object\n",
      "CIPLA\n",
      "Open                   485.00\n",
      "High                   485.00\n",
      "Low                    472.70\n",
      "Last Traded Price      478.65\n",
      "Change                  -6.85\n",
      "%Change                 -1.41\n",
      "Traded Volume(lacs)     27.78\n",
      "Traded Value(crs)      133.03\n",
      "52 Week High           586.00\n",
      "52 Week Low            389.55\n",
      "365 Days % Change       -8.33\n",
      "30 Days % Change         5.45\n",
      "Name: CIPLA, dtype: object\n",
      "BRITANNIA\n",
      "Open                   3,062.25\n",
      "High                   3,072.00\n",
      "Low                    3,016.15\n",
      "Last Traded Price      3,025.00\n",
      "Change                   -47.65\n",
      "%Change                   -1.55\n",
      "Traded Volume(lacs)        3.50\n",
      "Traded Value(crs)        106.33\n",
      "52 Week High           3,583.75\n",
      "52 Week Low            2,300.00\n",
      "365 Days % Change        -49.62\n",
      "30 Days % Change          -6.87\n",
      "Name: BRITANNIA, dtype: object\n",
      "TECHM\n",
      "Open                   765.00\n",
      "High                   765.00\n",
      "Low                    742.80\n",
      "Last Traded Price      753.10\n",
      "Change                 -12.05\n",
      "%Change                 -1.57\n",
      "Traded Volume(lacs)     18.20\n",
      "Traded Value(crs)      136.49\n",
      "52 Week High           846.50\n",
      "52 Week Low            607.15\n",
      "365 Days % Change        9.04\n",
      "30 Days % Change         4.94\n",
      "Name: TECHM, dtype: object\n",
      "KOTAKBANK\n",
      "Open                   1,591.95\n",
      "High                   1,593.90\n",
      "Low                    1,565.10\n",
      "Last Traded Price      1,568.90\n",
      "Change                   -26.35\n",
      "%Change                   -1.65\n",
      "Traded Volume(lacs)       18.62\n",
      "Traded Value(crs)        292.88\n",
      "52 Week High           1,683.95\n",
      "52 Week Low            1,153.05\n",
      "365 Days % Change         33.33\n",
      "30 Days % Change          -3.68\n",
      "Name: KOTAKBANK, dtype: object\n",
      "HCLTECH\n",
      "Open                   1,130.45\n",
      "High                   1,134.95\n",
      "Low                    1,108.95\n",
      "Last Traded Price      1,117.50\n",
      "Change                    -19.1\n",
      "%Change                   -1.68\n",
      "Traded Volume(lacs)       12.99\n",
      "Traded Value(crs)        144.83\n",
      "52 Week High           1,187.60\n",
      "52 Week Low              920.00\n",
      "365 Days % Change         13.43\n",
      "30 Days % Change           4.98\n",
      "Name: HCLTECH, dtype: object\n",
      "WIPRO\n",
      "Open                   243.30\n",
      "High                   245.65\n",
      "Low                    242.10\n",
      "Last Traded Price      243.05\n",
      "Change                   -4.5\n",
      "%Change                 -1.82\n",
      "Traded Volume(lacs)     40.92\n",
      "Traded Value(crs)       99.73\n",
      "52 Week High           301.60\n",
      "52 Week Low            226.99\n",
      "365 Days % Change      -22.63\n",
      "30 Days % Change        -4.14\n",
      "Name: WIPRO, dtype: object\n",
      "BHARTIARTL\n",
      "Open                   423.00\n",
      "High                   429.95\n",
      "Low                    417.00\n",
      "Last Traded Price      418.35\n",
      "Change                  -7.95\n",
      "%Change                 -1.86\n",
      "Traded Volume(lacs)    167.76\n",
      "Traded Value(crs)      709.32\n",
      "52 Week High           452.95\n",
      "52 Week Low            258.72\n",
      "365 Days % Change       25.74\n",
      "30 Days % Change        11.83\n",
      "Name: BHARTIARTL, dtype: object\n",
      "UPL\n",
      "Open                   541.00\n",
      "High                   542.50\n",
      "Low                    530.50\n",
      "Last Traded Price      533.30\n",
      "Change                  -11.5\n",
      "%Change                 -2.11\n",
      "Traded Volume(lacs)     25.54\n",
      "Traded Value(crs)      136.72\n",
      "52 Week High           709.05\n",
      "52 Week Low            480.67\n",
      "365 Days % Change      -31.56\n",
      "30 Days % Change       -10.67\n",
      "Name: UPL, dtype: object\n",
      "ASIANPAINT\n",
      "Open                   1,710.00\n",
      "High                   1,713.95\n",
      "Low                    1,676.00\n",
      "Last Traded Price      1,682.80\n",
      "Change                   -37.55\n",
      "%Change                   -2.18\n",
      "Traded Volume(lacs)       12.75\n",
      "Traded Value(crs)        215.81\n",
      "52 Week High           1,834.80\n",
      "52 Week Low            1,252.15\n",
      "365 Days % Change         27.08\n",
      "30 Days % Change          -5.47\n",
      "Name: ASIANPAINT, dtype: object\n",
      "TCS\n",
      "Open                   2,097.00\n",
      "High                   2,107.00\n",
      "Low                    2,060.50\n",
      "Last Traded Price      2,067.10\n",
      "Change                      -51\n",
      "%Change                   -2.41\n",
      "Traded Volume(lacs)       37.42\n",
      "Traded Value(crs)        778.11\n",
      "52 Week High           2,296.20\n",
      "52 Week Low            1,784.50\n",
      "365 Days % Change         14.08\n",
      "30 Days % Change           0.77\n",
      "Name: TCS, dtype: object\n",
      "INFY\n",
      "Open                   711.75\n",
      "High                   712.00\n",
      "Low                    685.10\n",
      "Last Traded Price      692.95\n",
      "Change                  -20.3\n",
      "%Change                 -2.85\n",
      "Traded Volume(lacs)    144.16\n",
      "Traded Value(crs)      999.56\n",
      "52 Week High           847.00\n",
      "52 Week Low            599.85\n",
      "365 Days % Change       11.93\n",
      "30 Days % Change         7.68\n",
      "Name: INFY, dtype: object\n",
      "INFRATEL\n",
      "Open                   242.00\n",
      "High                   243.00\n",
      "Low                    227.40\n",
      "Last Traded Price      232.05\n",
      "Change                  -9.85\n",
      "%Change                 -4.07\n",
      "Traded Volume(lacs)    181.60\n",
      "Traded Value(crs)      420.59\n",
      "52 Week High           335.00\n",
      "52 Week Low            176.35\n",
      "365 Days % Change      -10.35\n",
      "30 Days % Change       -10.34\n",
      "Name: INFRATEL, dtype: object\n",
      "******** 03 Selcted Columns *******\n"
     ]
    },
    {
     "ename": "AttributeError",
     "evalue": "'DataFrame' object has no attribute 'iterrow'",
     "output_type": "error",
     "traceback": [
      "\u001b[1;31m---------------------------------------------------------------------------\u001b[0m",
      "\u001b[1;31mAttributeError\u001b[0m                            Traceback (most recent call last)",
      "\u001b[1;32m<ipython-input-222-3574ca75e83b>\u001b[0m in \u001b[0;36m<module>\u001b[1;34m\u001b[0m\n\u001b[0;32m      9\u001b[0m     \u001b[0mprint\u001b[0m\u001b[1;33m(\u001b[0m\u001b[0mrow\u001b[0m\u001b[1;33m)\u001b[0m\u001b[1;33m\u001b[0m\u001b[1;33m\u001b[0m\u001b[0m\n\u001b[0;32m     10\u001b[0m \u001b[0mprint\u001b[0m\u001b[1;33m(\u001b[0m\u001b[1;34m\"******** 03 Selcted Columns *******\"\u001b[0m\u001b[1;33m)\u001b[0m\u001b[1;33m\u001b[0m\u001b[1;33m\u001b[0m\u001b[0m\n\u001b[1;32m---> 11\u001b[1;33m \u001b[1;32mfor\u001b[0m \u001b[0mlab\u001b[0m\u001b[1;33m,\u001b[0m \u001b[0mrow\u001b[0m \u001b[1;32min\u001b[0m \u001b[0mbrics\u001b[0m\u001b[1;33m.\u001b[0m\u001b[0miterrow\u001b[0m\u001b[1;33m(\u001b[0m\u001b[1;33m)\u001b[0m\u001b[1;33m:\u001b[0m\u001b[1;33m\u001b[0m\u001b[1;33m\u001b[0m\u001b[0m\n\u001b[0m\u001b[0;32m     12\u001b[0m     \u001b[0mprint\u001b[0m\u001b[1;33m(\u001b[0m\u001b[0mlab\u001b[0m \u001b[1;33m+\u001b[0m \u001b[1;34m\": \"\u001b[0m \u001b[1;33m+\u001b[0m \u001b[0mrow\u001b[0m\u001b[1;33m[\u001b[0m\u001b[1;34m\"Low\"\u001b[0m\u001b[1;33m]\u001b[0m\u001b[1;33m)\u001b[0m\u001b[1;33m\u001b[0m\u001b[1;33m\u001b[0m\u001b[0m\n\u001b[0;32m     13\u001b[0m \u001b[0mprint\u001b[0m\u001b[1;33m(\u001b[0m\u001b[1;34m\"******** 04 Add Column to result ********\"\u001b[0m\u001b[1;33m)\u001b[0m\u001b[1;33m\u001b[0m\u001b[1;33m\u001b[0m\u001b[0m\n",
      "\u001b[1;32mC:\\ProgramData\\Anaconda3\\lib\\site-packages\\pandas\\core\\generic.py\u001b[0m in \u001b[0;36m__getattr__\u001b[1;34m(self, name)\u001b[0m\n\u001b[0;32m   5065\u001b[0m             \u001b[1;32mif\u001b[0m \u001b[0mself\u001b[0m\u001b[1;33m.\u001b[0m\u001b[0m_info_axis\u001b[0m\u001b[1;33m.\u001b[0m\u001b[0m_can_hold_identifiers_and_holds_name\u001b[0m\u001b[1;33m(\u001b[0m\u001b[0mname\u001b[0m\u001b[1;33m)\u001b[0m\u001b[1;33m:\u001b[0m\u001b[1;33m\u001b[0m\u001b[1;33m\u001b[0m\u001b[0m\n\u001b[0;32m   5066\u001b[0m                 \u001b[1;32mreturn\u001b[0m \u001b[0mself\u001b[0m\u001b[1;33m[\u001b[0m\u001b[0mname\u001b[0m\u001b[1;33m]\u001b[0m\u001b[1;33m\u001b[0m\u001b[1;33m\u001b[0m\u001b[0m\n\u001b[1;32m-> 5067\u001b[1;33m             \u001b[1;32mreturn\u001b[0m \u001b[0mobject\u001b[0m\u001b[1;33m.\u001b[0m\u001b[0m__getattribute__\u001b[0m\u001b[1;33m(\u001b[0m\u001b[0mself\u001b[0m\u001b[1;33m,\u001b[0m \u001b[0mname\u001b[0m\u001b[1;33m)\u001b[0m\u001b[1;33m\u001b[0m\u001b[1;33m\u001b[0m\u001b[0m\n\u001b[0m\u001b[0;32m   5068\u001b[0m \u001b[1;33m\u001b[0m\u001b[0m\n\u001b[0;32m   5069\u001b[0m     \u001b[1;32mdef\u001b[0m \u001b[0m__setattr__\u001b[0m\u001b[1;33m(\u001b[0m\u001b[0mself\u001b[0m\u001b[1;33m,\u001b[0m \u001b[0mname\u001b[0m\u001b[1;33m,\u001b[0m \u001b[0mvalue\u001b[0m\u001b[1;33m)\u001b[0m\u001b[1;33m:\u001b[0m\u001b[1;33m\u001b[0m\u001b[1;33m\u001b[0m\u001b[0m\n",
      "\u001b[1;31mAttributeError\u001b[0m: 'DataFrame' object has no attribute 'iterrow'"
     ]
    }
   ],
   "source": [
    "import pandas as pd\n",
    "brics = pd.read_csv(\"data.csv\",index_col=0)\n",
    "print(\"******* 01. Column Names ********\")\n",
    "for val in brics :\n",
    "    print(val)\n",
    "print(\"******** 02 All rows ******** \")\n",
    "for lab, row in brics.iterrows():\n",
    "    print(lab)\n",
    "    print(row)\n",
    "print(\"******** 03 Selcted Columns *******\")\n",
    "for lab, row in brics.iterrow():\n",
    "    print(lab + \": \" + row[\"Low\"])\n",
    "print(\"******** 04 Add Column to result ********\")\n",
    "for lab, row in brics.iterrows():\n",
    "    brics.loc[lab,\"name_length\"]=len(row[\"country\"])\n",
    "print(brics)\n",
    "print(\"******** 05 Another method to add Column to result *******\")\n",
    "brics[\"name_length1\"] = brics[\"country\"].aply(len)\n",
    "print(brics)"
   ]
  },
  {
   "cell_type": "code",
   "execution_count": null,
   "metadata": {},
   "outputs": [],
   "source": []
  },
  {
   "cell_type": "code",
   "execution_count": null,
   "metadata": {},
   "outputs": [],
   "source": []
  },
  {
   "cell_type": "code",
   "execution_count": null,
   "metadata": {},
   "outputs": [],
   "source": []
  },
  {
   "cell_type": "code",
   "execution_count": null,
   "metadata": {},
   "outputs": [],
   "source": []
  },
  {
   "cell_type": "code",
   "execution_count": null,
   "metadata": {},
   "outputs": [],
   "source": []
  },
  {
   "cell_type": "code",
   "execution_count": null,
   "metadata": {},
   "outputs": [],
   "source": []
  },
  {
   "cell_type": "code",
   "execution_count": null,
   "metadata": {},
   "outputs": [],
   "source": []
  },
  {
   "cell_type": "code",
   "execution_count": null,
   "metadata": {},
   "outputs": [],
   "source": []
  },
  {
   "cell_type": "code",
   "execution_count": null,
   "metadata": {},
   "outputs": [],
   "source": []
  },
  {
   "cell_type": "code",
   "execution_count": null,
   "metadata": {},
   "outputs": [],
   "source": []
  },
  {
   "cell_type": "code",
   "execution_count": 8,
   "metadata": {},
   "outputs": [
    {
     "data": {
      "text/plain": [
       "69"
      ]
     },
     "execution_count": 8,
     "metadata": {},
     "output_type": "execute_result"
    }
   ],
   "source": [
    "_+20\n"
   ]
  },
  {
   "cell_type": "code",
   "execution_count": 9,
   "metadata": {},
   "outputs": [
    {
     "ename": "NameError",
     "evalue": "name 'true' is not defined",
     "output_type": "error",
     "traceback": [
      "\u001b[1;31m---------------------------------------------------------------------------\u001b[0m",
      "\u001b[1;31mNameError\u001b[0m                                 Traceback (most recent call last)",
      "\u001b[1;32m<ipython-input-9-fd4cbc8922b2>\u001b[0m in \u001b[0;36m<module>\u001b[1;34m\u001b[0m\n\u001b[1;32m----> 1\u001b[1;33m \u001b[0mab\u001b[0m\u001b[1;33m=\u001b[0m\u001b[0mtrue\u001b[0m\u001b[1;33m\u001b[0m\u001b[1;33m\u001b[0m\u001b[0m\n\u001b[0m",
      "\u001b[1;31mNameError\u001b[0m: name 'true' is not defined"
     ]
    }
   ],
   "source": [
    "ab=true"
   ]
  },
  {
   "cell_type": "code",
   "execution_count": 10,
   "metadata": {},
   "outputs": [],
   "source": [
    "ab= True"
   ]
  },
  {
   "cell_type": "code",
   "execution_count": 11,
   "metadata": {},
   "outputs": [
    {
     "data": {
      "text/plain": [
       "bool"
      ]
     },
     "execution_count": 11,
     "metadata": {},
     "output_type": "execute_result"
    }
   ],
   "source": [
    "type(ab)"
   ]
  },
  {
   "cell_type": "code",
   "execution_count": 13,
   "metadata": {},
   "outputs": [
    {
     "data": {
      "text/plain": [
       "float"
      ]
     },
     "execution_count": 13,
     "metadata": {},
     "output_type": "execute_result"
    }
   ],
   "source": [
    "a=4.55\n",
    "type(a)"
   ]
  },
  {
   "cell_type": "code",
   "execution_count": 14,
   "metadata": {},
   "outputs": [
    {
     "data": {
      "text/plain": [
       "complex"
      ]
     },
     "execution_count": 14,
     "metadata": {},
     "output_type": "execute_result"
    }
   ],
   "source": [
    "add=1+2j\n",
    "type(add)"
   ]
  },
  {
   "cell_type": "code",
   "execution_count": 15,
   "metadata": {},
   "outputs": [
    {
     "data": {
      "text/plain": [
       "int"
      ]
     },
     "execution_count": 15,
     "metadata": {},
     "output_type": "execute_result"
    }
   ],
   "source": [
    "a=10\n",
    "type(a)"
   ]
  },
  {
   "cell_type": "code",
   "execution_count": 16,
   "metadata": {},
   "outputs": [
    {
     "data": {
      "text/plain": [
       "str"
      ]
     },
     "execution_count": 16,
     "metadata": {},
     "output_type": "execute_result"
    }
   ],
   "source": [
    "a=10\n",
    "a1=str(a)\n",
    "type(a1)"
   ]
  },
  {
   "cell_type": "code",
   "execution_count": 18,
   "metadata": {},
   "outputs": [
    {
     "name": "stdout",
     "output_type": "stream",
     "text": [
      "<class 'int'>\n"
     ]
    }
   ],
   "source": [
    "a=\"10\"\n",
    "a1=int(a)\n",
    "type(a1)\n",
    "\n",
    "print(type(a1))"
   ]
  },
  {
   "cell_type": "code",
   "execution_count": 24,
   "metadata": {},
   "outputs": [
    {
     "name": "stdout",
     "output_type": "stream",
     "text": [
      "saving100  amt=124.0awesome\n"
     ]
    }
   ],
   "source": [
    "s=100\n",
    "i=12\n",
    "t=s+100*i*2/100\n",
    "t\n",
    "\n",
    "print(\"saving\"+str(s)+\"  amt=\"+str(t)+\"awesome\")"
   ]
  },
  {
   "cell_type": "code",
   "execution_count": 29,
   "metadata": {},
   "outputs": [
    {
     "data": {
      "text/plain": [
       "'python'"
      ]
     },
     "execution_count": 29,
     "metadata": {},
     "output_type": "execute_result"
    }
   ],
   "source": [
    "word=\"python\"\n",
    "word[1]\n",
    "word[1:3]\n",
    "word[:3]\n",
    "word[1:]\n",
    "word[:]"
   ]
  },
  {
   "cell_type": "code",
   "execution_count": 41,
   "metadata": {},
   "outputs": [
    {
     "name": "stdout",
     "output_type": "stream",
     "text": [
      "p\n",
      "y\n",
      "t\n",
      "h\n",
      "o\n",
      "n\n"
     ]
    }
   ],
   "source": [
    "for i in [0,1,2,3,4,5]:\n",
    "    print(word[i])"
   ]
  },
  {
   "cell_type": "code",
   "execution_count": 43,
   "metadata": {},
   "outputs": [
    {
     "ename": "TypeError",
     "evalue": "'str' object does not support item assignment",
     "output_type": "error",
     "traceback": [
      "\u001b[1;31m---------------------------------------------------------------------------\u001b[0m",
      "\u001b[1;31mTypeError\u001b[0m                                 Traceback (most recent call last)",
      "\u001b[1;32m<ipython-input-43-22eea73a73c6>\u001b[0m in \u001b[0;36m<module>\u001b[1;34m\u001b[0m\n\u001b[0;32m      1\u001b[0m \u001b[0mword\u001b[0m\u001b[1;33m=\u001b[0m\u001b[1;34m'jython'\u001b[0m\u001b[1;33m\u001b[0m\u001b[1;33m\u001b[0m\u001b[0m\n\u001b[0;32m      2\u001b[0m \u001b[0mword\u001b[0m\u001b[1;33m\u001b[0m\u001b[1;33m\u001b[0m\u001b[0m\n\u001b[1;32m----> 3\u001b[1;33m \u001b[0mword\u001b[0m\u001b[1;33m[\u001b[0m\u001b[1;36m0\u001b[0m\u001b[1;33m]\u001b[0m\u001b[1;33m=\u001b[0m\u001b[1;34m'p'\u001b[0m\u001b[1;33m\u001b[0m\u001b[1;33m\u001b[0m\u001b[0m\n\u001b[0m",
      "\u001b[1;31mTypeError\u001b[0m: 'str' object does not support item assignment"
     ]
    }
   ],
   "source": [
    "word='jython'\n",
    "word\n",
    "word[0]='p'"
   ]
  },
  {
   "cell_type": "code",
   "execution_count": 46,
   "metadata": {},
   "outputs": [
    {
     "ename": "NameError",
     "evalue": "name 'd' is not defined",
     "output_type": "error",
     "traceback": [
      "\u001b[1;31m---------------------------------------------------------------------------\u001b[0m",
      "\u001b[1;31mNameError\u001b[0m                                 Traceback (most recent call last)",
      "\u001b[1;32m<ipython-input-46-a0116026ff7e>\u001b[0m in \u001b[0;36m<module>\u001b[1;34m\u001b[0m\n\u001b[1;32m----> 1\u001b[1;33m \u001b[0mlist\u001b[0m\u001b[1;33m=\u001b[0m\u001b[1;33m[\u001b[0m\u001b[0ma\u001b[0m\u001b[1;33m,\u001b[0m\u001b[0ms\u001b[0m\u001b[1;33m,\u001b[0m\u001b[0md\u001b[0m\u001b[1;33m,\u001b[0m\u001b[0mf\u001b[0m\u001b[1;33m]\u001b[0m\u001b[1;33m\u001b[0m\u001b[1;33m\u001b[0m\u001b[0m\n\u001b[0m",
      "\u001b[1;31mNameError\u001b[0m: name 'd' is not defined"
     ]
    }
   ],
   "source": [
    "list=[a,s,d,f]"
   ]
  },
  {
   "cell_type": "code",
   "execution_count": 49,
   "metadata": {},
   "outputs": [
    {
     "name": "stdout",
     "output_type": "stream",
     "text": [
      "[1, 2, 3, 4]\n"
     ]
    },
    {
     "data": {
      "text/plain": [
       "list"
      ]
     },
     "execution_count": 49,
     "metadata": {},
     "output_type": "execute_result"
    }
   ],
   "source": [
    "emp_sal=[1,2,3,4]\n",
    "print(emp_sal)\n",
    "type(emp_sal)"
   ]
  },
  {
   "cell_type": "code",
   "execution_count": null,
   "metadata": {},
   "outputs": [],
   "source": []
  },
  {
   "cell_type": "code",
   "execution_count": null,
   "metadata": {},
   "outputs": [],
   "source": []
  },
  {
   "cell_type": "code",
   "execution_count": null,
   "metadata": {},
   "outputs": [],
   "source": []
  },
  {
   "cell_type": "code",
   "execution_count": null,
   "metadata": {},
   "outputs": [],
   "source": []
  },
  {
   "cell_type": "code",
   "execution_count": null,
   "metadata": {},
   "outputs": [],
   "source": []
  },
  {
   "cell_type": "code",
   "execution_count": null,
   "metadata": {},
   "outputs": [],
   "source": []
  },
  {
   "cell_type": "code",
   "execution_count": null,
   "metadata": {},
   "outputs": [],
   "source": []
  },
  {
   "cell_type": "code",
   "execution_count": null,
   "metadata": {},
   "outputs": [],
   "source": []
  },
  {
   "cell_type": "code",
   "execution_count": 1,
   "metadata": {},
   "outputs": [
    {
     "data": {
      "text/plain": [
       "5"
      ]
     },
     "execution_count": 1,
     "metadata": {},
     "output_type": "execute_result"
    }
   ],
   "source": [
    "2+3"
   ]
  },
  {
   "cell_type": "code",
   "execution_count": 2,
   "metadata": {},
   "outputs": [
    {
     "data": {
      "text/plain": [
       "3"
      ]
     },
     "execution_count": 2,
     "metadata": {},
     "output_type": "execute_result"
    }
   ],
   "source": [
    "5-2"
   ]
  },
  {
   "cell_type": "code",
   "execution_count": 3,
   "metadata": {},
   "outputs": [
    {
     "data": {
      "text/plain": [
       "3"
      ]
     },
     "execution_count": 3,
     "metadata": {},
     "output_type": "execute_result"
    }
   ],
   "source": [
    "7//2\n"
   ]
  },
  {
   "cell_type": "code",
   "execution_count": 4,
   "metadata": {},
   "outputs": [
    {
     "data": {
      "text/plain": [
       "3.5"
      ]
     },
     "execution_count": 4,
     "metadata": {},
     "output_type": "execute_result"
    }
   ],
   "source": [
    "7/2"
   ]
  },
  {
   "cell_type": "code",
   "execution_count": 5,
   "metadata": {},
   "outputs": [
    {
     "data": {
      "text/plain": [
       "1"
      ]
     },
     "execution_count": 5,
     "metadata": {},
     "output_type": "execute_result"
    }
   ],
   "source": [
    "7%2"
   ]
  },
  {
   "cell_type": "code",
   "execution_count": 6,
   "metadata": {},
   "outputs": [
    {
     "data": {
      "text/plain": [
       "14"
      ]
     },
     "execution_count": 6,
     "metadata": {},
     "output_type": "execute_result"
    }
   ],
   "source": [
    "7*2"
   ]
  },
  {
   "cell_type": "code",
   "execution_count": 7,
   "metadata": {},
   "outputs": [
    {
     "data": {
      "text/plain": [
       "49"
      ]
     },
     "execution_count": 7,
     "metadata": {},
     "output_type": "execute_result"
    }
   ],
   "source": [
    "7**2"
   ]
  }
 ],
 "metadata": {
  "kernelspec": {
   "display_name": "Python 3",
   "language": "python",
   "name": "python3"
  },
  "language_info": {
   "codemirror_mode": {
    "name": "ipython",
    "version": 3
   },
   "file_extension": ".py",
   "mimetype": "text/x-python",
   "name": "python",
   "nbconvert_exporter": "python",
   "pygments_lexer": "ipython3",
   "version": "3.7.3"
  }
 },
 "nbformat": 4,
 "nbformat_minor": 2
}
